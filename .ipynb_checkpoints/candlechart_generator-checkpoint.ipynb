{
 "cells": [
  {
   "cell_type": "markdown",
   "metadata": {},
   "source": [
    "# Candlechart generator\n",
    "# ローソク足チャート生成器\n",
    "\n",
    "OHLCのcsvファイルからローソク足チャートを生成します。\n",
    "\n"
   ]
  },
  {
   "cell_type": "markdown",
   "metadata": {},
   "source": [
    "## import module\n",
    "## モジュールのインポート"
   ]
  },
  {
   "cell_type": "code",
   "execution_count": 5,
   "metadata": {},
   "outputs": [],
   "source": [
    "import numpy as np\n",
    "import pandas as pd\n",
    "import talib as ta # 様々なテクニカル指標\n",
    "\n",
    "import sys\n",
    "#import time\n",
    "#import datetime\n",
    "\n",
    "import matplotlib\n",
    "matplotlib.use('Agg') # グラフを描画しない？\n",
    "import matplotlib.pyplot as plt # グラフ\n",
    "import matplotlib.dates as mdates # 日付\n",
    "import mpl_finance as mpf # ローソク足"
   ]
  },
  {
   "cell_type": "markdown",
   "metadata": {},
   "source": [
    "## constant\n",
    "## 定数"
   ]
  },
  {
   "cell_type": "code",
   "execution_count": 8,
   "metadata": {},
   "outputs": [],
   "source": [
    "INPUT_PATH = \"csv/USD_JPY_sample.csv\"\n",
    "OUTPUT_PATH = \"candlechart/\"\n",
    "#INPUT_PATH = \"../sotsuken/program/csv_realtime/USD_JPY.csv\" # 入力に用いるcsvのパス\n",
    "#OUTPUT_PATH = \"../sotsuken/program/chart/usd_jpy\" # 生成した画像の出力先のフォルダのパス\n",
    "BEGIN_DATE = \"2010-6-1\"# 起点\n",
    "END_DATE = \"\"# 終点\n",
    "CHART_RANGE = 7 # 何日分のデータからチャートを出力するか。変数名はDAYSのほうが適切？\n",
    "\n",
    "# グラフに関する定数\n",
    "WIDTH, HEIGHT = 4, 4 # 画像の幅と高さ（インチ）\n",
    "DPI = 32 # 解像度\n",
    "CANDLE_WIDTH = 0.5 # ローソクの太さ\n",
    "COLOR_UP = \"r\" # ローソク（上昇）の色\n",
    "COLOR_DOWN = \"b\" # ローソク（下落）の色"
   ]
  },
  {
   "cell_type": "markdown",
   "metadata": {},
   "source": [
    "## generate chartes\n",
    "## チャートを生成"
   ]
  },
  {
   "cell_type": "code",
   "execution_count": 7,
   "metadata": {},
   "outputs": [
    {
     "name": "stdout",
     "output_type": "stream",
     "text": [
      "OHLC samples...\n",
      "            USD_JPY_Open  USD_JPY_High  USD_JPY_Low  USD_JPY_Close\n",
      "Date                                                              \n",
      "2010-06-01         91.23         91.43        90.53          90.98\n",
      "2010-06-02         90.98         92.33        90.87          92.12\n",
      "2010-06-03         92.12         92.77        92.02          92.66\n",
      "2010-06-04         92.66         92.85        91.41          91.67\n",
      "2010-06-07         91.57         92.06        90.96          91.36\n"
     ]
    },
    {
     "name": "stderr",
     "output_type": "stream",
     "text": [
      "C:\\Users\\15rd112\\AppData\\Local\\conda\\conda\\envs\\python3.6\\lib\\site-packages\\matplotlib\\pyplot.py:514: RuntimeWarning: More than 20 figures have been opened. Figures created through the pyplot interface (`matplotlib.pyplot.figure`) are retained until explicitly closed and may consume too much memory. (To control this warning, see the rcParam `figure.max_open_warning`).\n",
      "  max_open_warning, RuntimeWarning)\n"
     ]
    },
    {
     "name": "stdout",
     "output_type": "stream",
     "text": [
      "Complete!\n"
     ]
    }
   ],
   "source": [
    "df = pd.read_csv(INPUT_PATH, index_col='Date', parse_dates=True)\n",
    "\n",
    "if END_DATE == \"\":\n",
    "    df = df[BEGIN_DATE:]\n",
    "else:\n",
    "    df = df[BEGIN_DATE:END_DATE]\n",
    "\n",
    "print(\"OHLC samples...\")\n",
    "print(df.head())\n",
    "\n",
    "if len(df.columns) != 4:\n",
    "    print(\"Error!\")\n",
    "    sys.exit()\n",
    "    \n",
    "\n",
    "for start_date, end_date in zip(df.index[0:-CHART_RANGE], df.index[CHART_RANGE:]):    \n",
    "    # データの切り出し\n",
    "    _df = df[start_date:end_date].copy()\n",
    "    _df.index = mdates.date2num(_df.index)\n",
    "    USD_JPY = _df.reset_index().values\n",
    "    \n",
    "    # グラフの作成\n",
    "    fig = plt.figure(figsize=(WIDTH, HEIGHT), dpi=DPI) # figsizeは縦横の長さ（インチ）\n",
    "    ax = plt.subplot()\n",
    "\n",
    "    # ローソク足を描画\n",
    "    mpf.candlestick_ohlc(ax, USD_JPY, width=CANDLE_WIDTH, colorup=COLOR_UP, colordown=COLOR_DOWN)\n",
    "\n",
    "    # 日付の設定\n",
    "    locator = mdates.AutoDateLocator()\n",
    "    ax.xaxis.set_major_locator(locator)\n",
    "    ax.xaxis.set_major_formatter(mdates.AutoDateFormatter(locator))\n",
    "\n",
    "    # 枠線等の削除\n",
    "    plt.tick_params(labelbottom=False, labelleft=False, left=False, bottom=False)\n",
    "    plt.gca().spines['right'].set_visible(False)\n",
    "    plt.gca().spines['top'].set_visible(False)\n",
    "    plt.gca().spines['left'].set_visible(False)\n",
    "    plt.gca().spines['bottom'].set_visible(False)\n",
    "    \n",
    "    #ax.grid()\n",
    "    \n",
    "    # 保存\n",
    "    plt.savefig(OUTPUT_PATH + '/USDJPY_' + start_date.strftime('%Y%m%d') + '_' + end_date.strftime('%Y%m%d') +'.png') # グラフを保存\n",
    "    \n",
    "print(\"Complete!\")"
   ]
  },
  {
   "cell_type": "code",
   "execution_count": null,
   "metadata": {},
   "outputs": [],
   "source": []
  }
 ],
 "metadata": {
  "kernelspec": {
   "display_name": "Python 3",
   "language": "python",
   "name": "python3"
  },
  "language_info": {
   "codemirror_mode": {
    "name": "ipython",
    "version": 3
   },
   "file_extension": ".py",
   "mimetype": "text/x-python",
   "name": "python",
   "nbconvert_exporter": "python",
   "pygments_lexer": "ipython3",
   "version": "3.6.8"
  }
 },
 "nbformat": 4,
 "nbformat_minor": 2
}
